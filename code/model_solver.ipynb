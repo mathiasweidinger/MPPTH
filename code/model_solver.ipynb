{
 "metadata": {
  "language_info": {
   "codemirror_mode": {
    "name": "ipython",
    "version": 3
   },
   "file_extension": ".py",
   "mimetype": "text/x-python",
   "name": "python",
   "nbconvert_exporter": "python",
   "pygments_lexer": "ipython3",
   "version": "3.9.5-final"
  },
  "orig_nbformat": 2,
  "kernelspec": {
   "name": "python3",
   "display_name": "Python 3.9.5 64-bit"
  },
  "interpreter": {
   "hash": "ee5cc6fef2d70a7e71ee3826687cbd150f18158e0b1eef11d4f4f92bb920e304"
  }
 },
 "nbformat": 4,
 "nbformat_minor": 2,
 "cells": [
  {
   "cell_type": "code",
   "execution_count": 28,
   "metadata": {},
   "outputs": [],
   "source": [
    "# import stuff\n",
    "from sympy.interactive import printing\n",
    "printing.init_printing(use_latex=True)\n",
    "from sympy import Function\n",
    "from sympy.solvers import solve\n",
    "import sympy as sp\n",
    "\n",
    "# make 6 t-vars to establish variable bounds\n",
    "t1 = sp.symbols('t_1', nonnegative=True)\n",
    "t2 = sp.symbols('t_2', nonnegative=True)\n",
    "t3 = sp.symbols('t_3', nonnegative=True)\n",
    "t4 = sp.symbols('t_4', nonnegative=True)\n",
    "t5 = sp.symbols('t_5', nonnegative=True)\n",
    "t6 = sp.symbols('t_6', nonnegative=True)\n",
    "\n",
    "# define the maximization variables\n",
    "X1, X2, X3, X4, LC, LA, s, u = sp.var('X_1, X_2, X_3, X_4, L_C, L_A, s, u', positive=True);\n",
    "\n",
    "s = t1/(1+t1)\n",
    "u = t1/()\n",
    "\n",
    "# import exogenous variables\n",
    "a1, a2, a3, a4 = sp.symbols('alpha_1, alpha_2, alpha_3, alpha_4') # alphas (each 0<=a<=1, and must add up to one)\n",
    "\n",
    "S1, S2, S3, S4 = sp.symbols('S_1, S_2, S_3, S_4', positive=True) # Subsistence levels\n",
    "\n",
    "t = sp.symbols('t', nonnegative=True)\n",
    "v0 = sp.symbols('v_0')\n",
    "v0 = t/(1+t) # raw skill level 0<=v0<=1\n",
    "\n",
    "i = sp.symbols('\\hat{\\imath}') # children in the household - time endowment\n",
    "I = sp.symbols('I') # household size and total time endowment\n",
    "\n",
    "p1,p2,p3,p4 = sp.symbols('p_1, p_2, p_3, p_4', positive=True) # consumer prices\n",
    "\n",
    "\n",
    "climate = sp.symbols('theta') # climate variable\n",
    "capital = sp.symbols('K') # quasi fixed land and (non-human) capital\n",
    "\n",
    "lam = sp.symbols('\\lambda') # shadow price (lagrange multiplier)"
   ]
  },
  {
   "cell_type": "code",
   "execution_count": 12,
   "metadata": {},
   "outputs": [
    {
     "output_type": "execute_result",
     "data": {
      "text/plain": [
       "  2          \n",
       " d           \n",
       "───(v(u)) < 0\n",
       "  2          \n",
       "du           "
      ],
      "image/png": "[encoded data removed]",
      "text/latex": "$\\displaystyle \\frac{d^{2}}{d u^{2}} v{\\left(u \\right)} < 0$"
     },
     "metadata": {},
     "execution_count": 12
    }
   ],
   "source": [
    "# technology of skill enhancement\n",
    "v = Function('v')(u)\n",
    "v.diff(u,1)>0\n",
    "v.diff(u,2)<0"
   ]
  },
  {
   "cell_type": "code",
   "execution_count": 13,
   "metadata": {},
   "outputs": [],
   "source": [
    "# labour equivalence function (cases 1 and 2)\n",
    "L1 = LA-s * u * LC + s * v * LC + (1 - s) * v0 * LC\n",
    "L2 = v * (LA/u)+v0*(LC-LA/u)"
   ]
  },
  {
   "cell_type": "code",
   "execution_count": 20,
   "metadata": {},
   "outputs": [
    {
     "output_type": "display_data",
     "data": {
      "text/plain": " ⎛L_A⋅v(u)      ⎛  L_A      ⎞      ⎞\nf⎜──────── + v₀⋅⎜- ─── + L_C⎟, K, θ⎟\n ⎝   u          ⎝   u       ⎠      ⎠",
      "image/png": "[encoded data removed]",
      "text/latex": "$\\displaystyle f{\\left(\\frac{L_{A} v{\\left(u \\right)}}{u} + v_{0} \\left(- \\frac{L_{A}}{u} + L_{C}\\right),K,\\theta \\right)}$"
     },
     "metadata": {}
    }
   ],
   "source": [
    "# define production function\n",
    "f1 = Function('f')(L1, capital,climate)\n",
    "#f1.diff(L1,1)>0\n",
    "f1.diff(climate)>0\n",
    "#f1.diff(L1,2)<0\n",
    "#f1.diff(L1, climate)<0\n",
    "f2 = Function('f')(L2,capital, climate)\n",
    "display(f2)"
   ]
  },
  {
   "cell_type": "code",
   "execution_count": 26,
   "metadata": {},
   "outputs": [],
   "source": [
    "# utility function (cases 1 and 2)\n",
    "U1 = (i-LC) * (X1-S1)**a1 *(X2-S2)**a2 * (I-i-LA-S3)**a3 * (i-LC-S4)**a4 \n",
    "U2 =          (X1-S1)**a1 *(X2-S2)**a2 * (I-i-LA-S3)**a3 * (i-LC-S4)**a4\n"
   ]
  },
  {
   "cell_type": "code",
   "execution_count": 27,
   "metadata": {},
   "outputs": [
    {
     "output_type": "error",
     "ename": "TypeError",
     "evalue": "'Symbol' object is not callable",
     "traceback": [
      "\u001b[1;31m---------------------------------------------------------------------------\u001b[0m",
      "\u001b[1;31mTypeError\u001b[0m                                 Traceback (most recent call last)",
      "\u001b[1;32m<ipython-input-27-be7a7e821504>\u001b[0m in \u001b[0;36m<module>\u001b[1;34m\u001b[0m\n\u001b[0;32m      1\u001b[0m \u001b[1;31m# main constraints\u001b[0m\u001b[1;33m\u001b[0m\u001b[1;33m\u001b[0m\u001b[1;33m\u001b[0m\u001b[0m\n\u001b[1;32m----> 2\u001b[1;33m \u001b[0mG1\u001b[0m \u001b[1;33m=\u001b[0m \u001b[0mp1\u001b[0m\u001b[1;33m*\u001b[0m\u001b[0mX1\u001b[0m \u001b[1;33m+\u001b[0m \u001b[0mp2\u001b[0m\u001b[1;33m*\u001b[0m\u001b[0mX2\u001b[0m \u001b[1;33m+\u001b[0m \u001b[0mp3\u001b[0m\u001b[1;33m*\u001b[0m\u001b[0mI\u001b[0m \u001b[1;33m-\u001b[0m \u001b[0mp3\u001b[0m\u001b[1;33m*\u001b[0m\u001b[0mi\u001b[0m \u001b[1;33m-\u001b[0m\u001b[0mp3\u001b[0m\u001b[1;33m*\u001b[0m\u001b[0mLA\u001b[0m \u001b[1;33m+\u001b[0m \u001b[0mp4\u001b[0m\u001b[1;33m*\u001b[0m\u001b[0mi\u001b[0m \u001b[1;33m-\u001b[0m \u001b[0mp4\u001b[0m\u001b[1;33m*\u001b[0m\u001b[0mLC\u001b[0m \u001b[1;33m-\u001b[0m \u001b[0mp1\u001b[0m\u001b[1;33m*\u001b[0m\u001b[0mf1\u001b[0m \u001b[1;33m+\u001b[0m \u001b[0mp3\u001b[0m\u001b[1;33m*\u001b[0m\u001b[0mLA\u001b[0m \u001b[1;33m+\u001b[0m \u001b[0mp4\u001b[0m\u001b[1;33m*\u001b[0m\u001b[0mLC\u001b[0m \u001b[1;33m-\u001b[0m \u001b[0mp3\u001b[0m\u001b[1;33m*\u001b[0m\u001b[0mI\u001b[0m\u001b[1;33m-\u001b[0m\u001b[0mp3\u001b[0m\u001b[1;33m*\u001b[0m\u001b[0mi\u001b[0m \u001b[1;33m-\u001b[0m \u001b[0mp4\u001b[0m\u001b[1;33m(\u001b[0m\u001b[0mi\u001b[0m\u001b[1;33m)\u001b[0m\u001b[1;33m\u001b[0m\u001b[1;33m\u001b[0m\u001b[0m\n\u001b[0m\u001b[0;32m      3\u001b[0m \u001b[0mG2\u001b[0m \u001b[1;33m=\u001b[0m \u001b[0mp1\u001b[0m\u001b[1;33m*\u001b[0m\u001b[0mX1\u001b[0m \u001b[1;33m+\u001b[0m \u001b[0mp2\u001b[0m\u001b[1;33m*\u001b[0m\u001b[0mX2\u001b[0m \u001b[1;33m+\u001b[0m \u001b[0mp3\u001b[0m\u001b[1;33m*\u001b[0m\u001b[0mI\u001b[0m \u001b[1;33m-\u001b[0m \u001b[0mp3\u001b[0m\u001b[1;33m*\u001b[0m\u001b[0mi\u001b[0m \u001b[1;33m-\u001b[0m\u001b[0mp3\u001b[0m\u001b[1;33m*\u001b[0m\u001b[0mLA\u001b[0m \u001b[1;33m+\u001b[0m \u001b[0mp4\u001b[0m\u001b[1;33m*\u001b[0m\u001b[0mi\u001b[0m \u001b[1;33m-\u001b[0m \u001b[0mp4\u001b[0m\u001b[1;33m*\u001b[0m\u001b[0mLC\u001b[0m \u001b[1;33m-\u001b[0m \u001b[0mp1\u001b[0m\u001b[1;33m*\u001b[0m\u001b[0mf2\u001b[0m \u001b[1;33m+\u001b[0m \u001b[0mp3\u001b[0m\u001b[1;33m*\u001b[0m\u001b[0mLA\u001b[0m \u001b[1;33m+\u001b[0m \u001b[0mp4\u001b[0m\u001b[1;33m*\u001b[0m\u001b[0mLC\u001b[0m \u001b[1;33m-\u001b[0m \u001b[0mp3\u001b[0m\u001b[1;33m*\u001b[0m\u001b[0mI\u001b[0m\u001b[1;33m-\u001b[0m\u001b[0mp3\u001b[0m\u001b[1;33m*\u001b[0m\u001b[0mi\u001b[0m \u001b[1;33m-\u001b[0m \u001b[0mp4\u001b[0m\u001b[1;33m(\u001b[0m\u001b[0mi\u001b[0m\u001b[1;33m)\u001b[0m\u001b[1;33m\u001b[0m\u001b[1;33m\u001b[0m\u001b[0m\n",
      "\u001b[1;31mTypeError\u001b[0m: 'Symbol' object is not callable"
     ]
    }
   ],
   "source": [
    "# main constraints\n",
    "G1 = p1*X1 + p2*X2 + p3*I - p3*i -p3*LA + p4*i - p4*LC - p1*f1 + p3*LA + p4*LC - p3*I-p3*i - p4(i)\n",
    "G2 = p1*X1 + p2*X2 + p3*I - p3*i -p3*LA + p4*i - p4*LC - p1*f2 + p3*LA + p4*LC - p3*I-p3*i - p4(i)\n"
   ]
  },
  {
   "cell_type": "code",
   "execution_count": 48,
   "metadata": {},
   "outputs": [],
   "source": [
    "# Lagrangians\n",
    "Lagrange1 = U1 - lam * G1 # case 1\n",
    "Lagrange2 = U2 - lam * G1 # case 2\n",
    "Lagrange3 = U1 - lam * G2 # case 3\n",
    "Lagrange4 = U2 - lam * G2 # case 4"
   ]
  },
  {
   "cell_type": "code",
   "execution_count": 50,
   "metadata": {},
   "outputs": [],
   "source": [
    "# Calculate KKT-conditions\n",
    "grad1 = [sp.diff(Lagrange1,c) for c in [X1, X2, X3, X4, LC, LA, s, u]] # gradient of Lagrangian w.r.t choice variables\n",
    "KKT1 = grad1 + [G1]\n",
    "\n",
    "grad2 = [sp.diff(Lagrange2,c) for c in [X1, X2, X3, X4, LC, LA, s, u]] # gradient of Lagrangian w.r.t choice variables\n",
    "KKT2 = grad2 + [G1]\n",
    "\n",
    "grad3 = [sp.diff(Lagrange3,c) for c in [X1, X2, X3, X4, LC, LA, s, u]] # gradient of Lagrangian w.r.t choice variables\n",
    "KKT3 = grad3 + [G2]\n",
    "\n",
    "grad4 = [sp.diff(Lagrange4,c) for c in [X1, X2, X3, X4, LC, LA, s, u]] # gradient of Lagrangian w.r.t choice variables\n",
    "KKT4 = grad4 + [G2]"
   ]
  },
  {
   "cell_type": "code",
   "execution_count": 51,
   "metadata": {},
   "outputs": [
    {
     "output_type": "error",
     "ename": "AttributeError",
     "evalue": "'list' object has no attribute 'free_symbols'",
     "traceback": [
      "\u001b[1;31m---------------------------------------------------------------------------\u001b[0m",
      "\u001b[1;31mAttributeError\u001b[0m                            Traceback (most recent call last)",
      "\u001b[1;32m<ipython-input-51-6310f226d114>\u001b[0m in \u001b[0;36m<module>\u001b[1;34m\u001b[0m\n\u001b[1;32m----> 1\u001b[1;33m candidates = solve([X1 >= 0, X2 >= 0, X3 >=0 , X4 >= 0,\n\u001b[0m\u001b[0;32m      2\u001b[0m                     \u001b[0mLC\u001b[0m \u001b[1;33m>=\u001b[0m \u001b[1;36m0\u001b[0m\u001b[1;33m,\u001b[0m \u001b[0mLA\u001b[0m \u001b[1;33m>=\u001b[0m\u001b[1;36m0\u001b[0m\u001b[1;33m,\u001b[0m\u001b[1;33m\u001b[0m\u001b[1;33m\u001b[0m\u001b[0m\n\u001b[0;32m      3\u001b[0m                     \u001b[0ms\u001b[0m \u001b[1;33m>=\u001b[0m \u001b[1;36m0\u001b[0m\u001b[1;33m,\u001b[0m \u001b[0ms\u001b[0m \u001b[1;33m<=\u001b[0m \u001b[1;36m1\u001b[0m\u001b[1;33m,\u001b[0m \u001b[0mu\u001b[0m \u001b[1;33m>=\u001b[0m \u001b[1;36m0\u001b[0m\u001b[1;33m,\u001b[0m \u001b[0mu\u001b[0m \u001b[1;33m<=\u001b[0m \u001b[1;36m1\u001b[0m\u001b[1;33m,\u001b[0m \u001b[0mv0\u001b[0m\u001b[1;33m>=\u001b[0m\u001b[1;36m0\u001b[0m\u001b[1;33m,\u001b[0m \u001b[0mv0\u001b[0m \u001b[1;33m<=\u001b[0m\u001b[0mv\u001b[0m\u001b[1;33m,\u001b[0m \u001b[0mv\u001b[0m\u001b[1;33m<=\u001b[0m\u001b[1;36m1\u001b[0m\u001b[1;33m,\u001b[0m \u001b[0mv\u001b[0m\u001b[1;33m>=\u001b[0m\u001b[1;36m0\u001b[0m\u001b[1;33m,\u001b[0m \u001b[0mv\u001b[0m\u001b[1;33m.\u001b[0m\u001b[0mdiff\u001b[0m\u001b[1;33m(\u001b[0m\u001b[0mu\u001b[0m\u001b[1;33m,\u001b[0m\u001b[1;36m1\u001b[0m\u001b[1;33m)\u001b[0m\u001b[1;33m>\u001b[0m\u001b[1;36m0\u001b[0m\u001b[1;33m,\u001b[0m \u001b[0mv\u001b[0m\u001b[1;33m.\u001b[0m\u001b[0mdiff\u001b[0m\u001b[1;33m(\u001b[0m\u001b[0mu\u001b[0m\u001b[1;33m,\u001b[0m\u001b[1;36m2\u001b[0m\u001b[1;33m)\u001b[0m\u001b[1;33m<\u001b[0m\u001b[1;36m0\u001b[0m\u001b[1;33m,\u001b[0m\u001b[1;33m\u001b[0m\u001b[1;33m\u001b[0m\u001b[0m\n\u001b[0;32m      4\u001b[0m                     \u001b[0mp1\u001b[0m \u001b[1;33m>=\u001b[0m \u001b[1;36m0\u001b[0m\u001b[1;33m,\u001b[0m \u001b[0mp2\u001b[0m \u001b[1;33m>=\u001b[0m \u001b[1;36m0\u001b[0m\u001b[1;33m,\u001b[0m \u001b[0mp3\u001b[0m \u001b[1;33m>=\u001b[0m \u001b[1;36m0\u001b[0m\u001b[1;33m,\u001b[0m \u001b[0mp4\u001b[0m \u001b[1;33m>=\u001b[0m \u001b[1;36m0\u001b[0m\u001b[1;33m,\u001b[0m\u001b[1;33m\u001b[0m\u001b[1;33m\u001b[0m\u001b[0m\n\u001b[0;32m      5\u001b[0m                     \u001b[0mS1\u001b[0m \u001b[1;33m>=\u001b[0m \u001b[1;36m0\u001b[0m\u001b[1;33m,\u001b[0m \u001b[0mS2\u001b[0m \u001b[1;33m>=\u001b[0m \u001b[1;36m0\u001b[0m\u001b[1;33m,\u001b[0m \u001b[0mS3\u001b[0m \u001b[1;33m>=\u001b[0m \u001b[1;36m0\u001b[0m\u001b[1;33m,\u001b[0m \u001b[0mS4\u001b[0m \u001b[1;33m>=\u001b[0m \u001b[1;36m0\u001b[0m\u001b[1;33m,\u001b[0m\u001b[1;33m\u001b[0m\u001b[1;33m\u001b[0m\u001b[0m\n",
      "\u001b[1;32mC:\\Python\\Python39\\lib\\site-packages\\sympy\\solvers\\solvers.py\u001b[0m in \u001b[0;36msolve\u001b[1;34m(f, *symbols, **flags)\u001b[0m\n\u001b[0;32m    907\u001b[0m \u001b[1;33m\u001b[0m\u001b[0m\n\u001b[0;32m    908\u001b[0m         \u001b[1;32mif\u001b[0m \u001b[0mfi\u001b[0m\u001b[1;33m.\u001b[0m\u001b[0mis_Relational\u001b[0m\u001b[1;33m:\u001b[0m\u001b[1;33m\u001b[0m\u001b[1;33m\u001b[0m\u001b[0m\n\u001b[1;32m--> 909\u001b[1;33m             \u001b[1;32mreturn\u001b[0m \u001b[0mreduce_inequalities\u001b[0m\u001b[1;33m(\u001b[0m\u001b[0mf\u001b[0m\u001b[1;33m,\u001b[0m \u001b[0msymbols\u001b[0m\u001b[1;33m=\u001b[0m\u001b[0msymbols\u001b[0m\u001b[1;33m)\u001b[0m\u001b[1;33m\u001b[0m\u001b[1;33m\u001b[0m\u001b[0m\n\u001b[0m\u001b[0;32m    910\u001b[0m \u001b[1;33m\u001b[0m\u001b[0m\n\u001b[0;32m    911\u001b[0m         \u001b[1;32mif\u001b[0m \u001b[0misinstance\u001b[0m\u001b[1;33m(\u001b[0m\u001b[0mfi\u001b[0m\u001b[1;33m,\u001b[0m \u001b[0mPoly\u001b[0m\u001b[1;33m)\u001b[0m\u001b[1;33m:\u001b[0m\u001b[1;33m\u001b[0m\u001b[1;33m\u001b[0m\u001b[0m\n",
      "\u001b[1;32mC:\\Python\\Python39\\lib\\site-packages\\sympy\\solvers\\inequalities.py\u001b[0m in \u001b[0;36mreduce_inequalities\u001b[1;34m(inequalities, symbols)\u001b[0m\n\u001b[0;32m    969\u001b[0m     \u001b[0minequalities\u001b[0m \u001b[1;33m=\u001b[0m \u001b[1;33m[\u001b[0m\u001b[0msympify\u001b[0m\u001b[1;33m(\u001b[0m\u001b[0mi\u001b[0m\u001b[1;33m)\u001b[0m \u001b[1;32mfor\u001b[0m \u001b[0mi\u001b[0m \u001b[1;32min\u001b[0m \u001b[0minequalities\u001b[0m\u001b[1;33m]\u001b[0m\u001b[1;33m\u001b[0m\u001b[1;33m\u001b[0m\u001b[0m\n\u001b[0;32m    970\u001b[0m \u001b[1;33m\u001b[0m\u001b[0m\n\u001b[1;32m--> 971\u001b[1;33m     \u001b[0mgens\u001b[0m \u001b[1;33m=\u001b[0m \u001b[0mset\u001b[0m\u001b[1;33m(\u001b[0m\u001b[1;33m)\u001b[0m\u001b[1;33m.\u001b[0m\u001b[0munion\u001b[0m\u001b[1;33m(\u001b[0m\u001b[1;33m*\u001b[0m\u001b[1;33m[\u001b[0m\u001b[0mi\u001b[0m\u001b[1;33m.\u001b[0m\u001b[0mfree_symbols\u001b[0m \u001b[1;32mfor\u001b[0m \u001b[0mi\u001b[0m \u001b[1;32min\u001b[0m \u001b[0minequalities\u001b[0m\u001b[1;33m]\u001b[0m\u001b[1;33m)\u001b[0m\u001b[1;33m\u001b[0m\u001b[1;33m\u001b[0m\u001b[0m\n\u001b[0m\u001b[0;32m    972\u001b[0m \u001b[1;33m\u001b[0m\u001b[0m\n\u001b[0;32m    973\u001b[0m     \u001b[1;32mif\u001b[0m \u001b[1;32mnot\u001b[0m \u001b[0miterable\u001b[0m\u001b[1;33m(\u001b[0m\u001b[0msymbols\u001b[0m\u001b[1;33m)\u001b[0m\u001b[1;33m:\u001b[0m\u001b[1;33m\u001b[0m\u001b[1;33m\u001b[0m\u001b[0m\n",
      "\u001b[1;32mC:\\Python\\Python39\\lib\\site-packages\\sympy\\solvers\\inequalities.py\u001b[0m in \u001b[0;36m<listcomp>\u001b[1;34m(.0)\u001b[0m\n\u001b[0;32m    969\u001b[0m     \u001b[0minequalities\u001b[0m \u001b[1;33m=\u001b[0m \u001b[1;33m[\u001b[0m\u001b[0msympify\u001b[0m\u001b[1;33m(\u001b[0m\u001b[0mi\u001b[0m\u001b[1;33m)\u001b[0m \u001b[1;32mfor\u001b[0m \u001b[0mi\u001b[0m \u001b[1;32min\u001b[0m \u001b[0minequalities\u001b[0m\u001b[1;33m]\u001b[0m\u001b[1;33m\u001b[0m\u001b[1;33m\u001b[0m\u001b[0m\n\u001b[0;32m    970\u001b[0m \u001b[1;33m\u001b[0m\u001b[0m\n\u001b[1;32m--> 971\u001b[1;33m     \u001b[0mgens\u001b[0m \u001b[1;33m=\u001b[0m \u001b[0mset\u001b[0m\u001b[1;33m(\u001b[0m\u001b[1;33m)\u001b[0m\u001b[1;33m.\u001b[0m\u001b[0munion\u001b[0m\u001b[1;33m(\u001b[0m\u001b[1;33m*\u001b[0m\u001b[1;33m[\u001b[0m\u001b[0mi\u001b[0m\u001b[1;33m.\u001b[0m\u001b[0mfree_symbols\u001b[0m \u001b[1;32mfor\u001b[0m \u001b[0mi\u001b[0m \u001b[1;32min\u001b[0m \u001b[0minequalities\u001b[0m\u001b[1;33m]\u001b[0m\u001b[1;33m)\u001b[0m\u001b[1;33m\u001b[0m\u001b[1;33m\u001b[0m\u001b[0m\n\u001b[0m\u001b[0;32m    972\u001b[0m \u001b[1;33m\u001b[0m\u001b[0m\n\u001b[0;32m    973\u001b[0m     \u001b[1;32mif\u001b[0m \u001b[1;32mnot\u001b[0m \u001b[0miterable\u001b[0m\u001b[1;33m(\u001b[0m\u001b[0msymbols\u001b[0m\u001b[1;33m)\u001b[0m\u001b[1;33m:\u001b[0m\u001b[1;33m\u001b[0m\u001b[1;33m\u001b[0m\u001b[0m\n",
      "\u001b[1;31mAttributeError\u001b[0m: 'list' object has no attribute 'free_symbols'"
     ]
    }
   ],
   "source": [
    "\n",
    "candidates = sp.solve(KKT1, [x1, x2, x3, x4, lc, la, s, u, lam], dict=True) # solve the KKT equations\n",
    "print(candidates)"
   ]
  },
  {
   "cell_type": "code",
   "execution_count": null,
   "metadata": {},
   "outputs": [],
   "source": [
    "[f.subs(p) for p in candidates]"
   ]
  }
 ]
}