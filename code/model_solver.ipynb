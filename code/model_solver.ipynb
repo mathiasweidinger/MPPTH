{
 "metadata": {
  "language_info": {
   "codemirror_mode": {
    "name": "ipython",
    "version": 3
   },
   "file_extension": ".py",
   "mimetype": "text/x-python",
   "name": "python",
   "nbconvert_exporter": "python",
   "pygments_lexer": "ipython3",
   "version": "3.8.3-final"
  },
  "orig_nbformat": 2,
  "kernelspec": {
   "name": "python3",
   "display_name": "Python 3.8.3 64-bit (conda)",
   "metadata": {
    "interpreter": {
     "hash": "ddfce720eb1e07fa91dd96f08f73cb26067c93c636e3e056396b888fa0e5bb92"
    }
   }
  }
 },
 "nbformat": 4,
 "nbformat_minor": 2,
 "cells": [
  {
   "cell_type": "code",
   "execution_count": 113,
   "metadata": {},
   "outputs": [],
   "source": [
    "# import stuff\r\n",
    "from sympy.interactive import printing\r\n",
    "printing.init_printing(use_latex=True)\r\n",
    "from sympy import Function\r\n",
    "import sympy as sp\r\n",
    "\r\n",
    "# define the maximization variables\r\n",
    "x1, x2, x3, x4, lc, la, s, u = sp.var('x_1, x_2, x_3, x_4, L_c, L_a, s, u', real=True);\r\n",
    "\r\n",
    "# import exogenous variables\r\n",
    "a1 = sp.symbols('alpha_1')\r\n",
    "a2 = sp.symbols('alpha_2')\r\n",
    "a3 = sp.symbols('alpha_3')\r\n",
    "a4 = sp.symbols('alpha_4')\r\n",
    "s1 = sp.symbols('s_1')\r\n",
    "s2 = sp.symbols('s_2')\r\n",
    "s3 = sp.symbols('s_3')\r\n",
    "s4 = sp.symbols('s_4')\r\n",
    "v0 = sp.symbols('v_0')\r\n",
    "i = sp.symbols('\\hat{\\imath}')\r\n",
    "p1 = sp.symbols('p_1')\r\n",
    "p2 = sp.symbols('p_2')\r\n",
    "p3 = sp.symbols('p_3')\r\n",
    "p4 = sp.symbols('p_4')\r\n",
    "I = sp.symbols('I')\r\n",
    "lam = sp.symbols('lambda')"
   ]
  },
  {
   "cell_type": "code",
   "execution_count": 114,
   "metadata": {},
   "outputs": [],
   "source": [
    "# technology of skill enhancement\n",
    "v = Function('v')(u)\n",
    "# labour equivalence function (cases 1 and 2)\n",
    "L1 = la-s * u * lc + s * v * lc + (1 - s) * v0 * lc\n",
    "L2 = v * (la/u)+v0*(lc-la/u)"
   ]
  },
  {
   "cell_type": "code",
   "execution_count": 115,
   "metadata": {},
   "outputs": [],
   "source": [
    "# define production function\n",
    "f1 = Function('f')(L1)\n",
    "f2 = Function('f')(L2)"
   ]
  },
  {
   "cell_type": "code",
   "execution_count": 116,
   "metadata": {},
   "outputs": [],
   "source": [
    "# utility function (cases 1 and 2)\n",
    "U1 = (i-lc) * (x1-s1)**a1 * (x2-s2)**a2 * (x3-s3)**a3* (x4-s4)**a4 \n",
    "U2 = (x1-s1)**a1 * (x2-s2)**a2 * (x3-s3)**a3* (x4-s4)**a4\n",
    "\n",
    "# constraints\n",
    "G1 = p1 * x1 + p2 * x2 + p3 * x3 + p4 * x4 - p3*f1 + p2*L1 - p2*I\n",
    "G2 = p1 * x1 + p2 * x2 + p3 * x3 + p4 * x4 - p3*f2 + p2*L2 - p2*I\n",
    "\n",
    "# Lagrangians\n",
    "\n",
    "Lagrange1 = U1 - lam * G1\n",
    "Lagrange2 = U2 - lam * G1\n",
    "Lagrange3 = U1 - lam * G2\n",
    "Lagrange4 = U2 - lam * G2"
   ]
  },
  {
   "cell_type": "code",
   "execution_count": 117,
   "metadata": {},
   "outputs": [],
   "source": [
    "# Calculate KKT-conditions\n",
    "grad1 = [sp.diff(Lagrange1,c) for c in [x1, x2, x3, x4, lc, la, s, u]] # gradient of Lagrangian w.r.t choice variables\n",
    "KKT1 = grad1 + [G1]\n",
    "\n",
    "grad2 = [sp.diff(Lagrange2,c) for c in [x1, x2, x3, x4, lc, la, s, u]] # gradient of Lagrangian w.r.t choice variables\n",
    "KKT2 = grad2 + [G1]\n",
    "\n",
    "grad3 = [sp.diff(Lagrange3,c) for c in [x1, x2, x3, x4, lc, la, s, u]] # gradient of Lagrangian w.r.t choice variables\n",
    "KKT3 = grad3 + [G2]\n",
    "\n",
    "grad4 = [sp.diff(Lagrange4,c) for c in [x1, x2, x3, x4, lc, la, s, u]] # gradient of Lagrangian w.r.t choice variables\n",
    "KKT4 = grad4 + [G2]"
   ]
  },
  {
   "cell_type": "code",
   "execution_count": 118,
   "metadata": {},
   "outputs": [
    {
     "output_type": "error",
     "ename": "NotImplementedError",
     "evalue": "could not solve \\hat{\\imath}*alpha_2*(-s_2 + x_2)**alpha_2*(-s_3 + x_3)**alpha_3*(-s_4 + x_4)**alpha_4*((\\hat{\\imath}*alpha_1*(-s_2 + x_2)**alpha_2*(-s_3 + x_3)**alpha_3*(-s_4 + x_4)**alpha_4/(lambda*p_1))**(-1/(alpha_1 - 1)))**alpha_1 - lambda*p_2*(-s_2 + x_2)",
     "traceback": [
      "\u001b[1;31m---------------------------------------------------------------------------\u001b[0m",
      "\u001b[1;31mNotImplementedError\u001b[0m                       Traceback (most recent call last)",
      "\u001b[1;32m<ipython-input-118-35a8632f6e4d>\u001b[0m in \u001b[0;36m<module>\u001b[1;34m\u001b[0m\n\u001b[1;32m----> 1\u001b[1;33m \u001b[0mcandidates\u001b[0m \u001b[1;33m=\u001b[0m \u001b[0msp\u001b[0m\u001b[1;33m.\u001b[0m\u001b[0msolve\u001b[0m\u001b[1;33m(\u001b[0m\u001b[0mKKT1\u001b[0m\u001b[1;33m,\u001b[0m \u001b[1;33m[\u001b[0m\u001b[0mx1\u001b[0m\u001b[1;33m,\u001b[0m \u001b[0mx2\u001b[0m\u001b[1;33m,\u001b[0m \u001b[0mx3\u001b[0m\u001b[1;33m,\u001b[0m \u001b[0mx4\u001b[0m\u001b[1;33m,\u001b[0m \u001b[0mlc\u001b[0m\u001b[1;33m,\u001b[0m \u001b[0mla\u001b[0m\u001b[1;33m,\u001b[0m \u001b[0ms\u001b[0m\u001b[1;33m,\u001b[0m \u001b[0mu\u001b[0m\u001b[1;33m,\u001b[0m \u001b[0mlam\u001b[0m\u001b[1;33m]\u001b[0m\u001b[1;33m,\u001b[0m \u001b[0mdict\u001b[0m\u001b[1;33m=\u001b[0m\u001b[1;32mTrue\u001b[0m\u001b[1;33m)\u001b[0m \u001b[1;31m# solve the KKT equations\u001b[0m\u001b[1;33m\u001b[0m\u001b[1;33m\u001b[0m\u001b[0m\n\u001b[0m\u001b[0;32m      2\u001b[0m \u001b[0mcandidates\u001b[0m\u001b[1;33m\u001b[0m\u001b[1;33m\u001b[0m\u001b[0m\n",
      "\u001b[1;32m~\\anaconda3\\lib\\site-packages\\sympy\\solvers\\solvers.py\u001b[0m in \u001b[0;36msolve\u001b[1;34m(f, *symbols, **flags)\u001b[0m\n\u001b[0;32m   1094\u001b[0m         \u001b[0msolution\u001b[0m \u001b[1;33m=\u001b[0m \u001b[0m_solve\u001b[0m\u001b[1;33m(\u001b[0m\u001b[0mf\u001b[0m\u001b[1;33m[\u001b[0m\u001b[1;36m0\u001b[0m\u001b[1;33m]\u001b[0m\u001b[1;33m,\u001b[0m \u001b[1;33m*\u001b[0m\u001b[0msymbols\u001b[0m\u001b[1;33m,\u001b[0m \u001b[1;33m**\u001b[0m\u001b[0mflags\u001b[0m\u001b[1;33m)\u001b[0m\u001b[1;33m\u001b[0m\u001b[1;33m\u001b[0m\u001b[0m\n\u001b[0;32m   1095\u001b[0m     \u001b[1;32melse\u001b[0m\u001b[1;33m:\u001b[0m\u001b[1;33m\u001b[0m\u001b[1;33m\u001b[0m\u001b[0m\n\u001b[1;32m-> 1096\u001b[1;33m         \u001b[0msolution\u001b[0m \u001b[1;33m=\u001b[0m \u001b[0m_solve_system\u001b[0m\u001b[1;33m(\u001b[0m\u001b[0mf\u001b[0m\u001b[1;33m,\u001b[0m \u001b[0msymbols\u001b[0m\u001b[1;33m,\u001b[0m \u001b[1;33m**\u001b[0m\u001b[0mflags\u001b[0m\u001b[1;33m)\u001b[0m\u001b[1;33m\u001b[0m\u001b[1;33m\u001b[0m\u001b[0m\n\u001b[0m\u001b[0;32m   1097\u001b[0m \u001b[1;33m\u001b[0m\u001b[0m\n\u001b[0;32m   1098\u001b[0m     \u001b[1;31m#\u001b[0m\u001b[1;33m\u001b[0m\u001b[1;33m\u001b[0m\u001b[1;33m\u001b[0m\u001b[0m\n",
      "\u001b[1;32m~\\anaconda3\\lib\\site-packages\\sympy\\solvers\\solvers.py\u001b[0m in \u001b[0;36m_solve_system\u001b[1;34m(exprs, symbols, **flags)\u001b[0m\n\u001b[0;32m   1887\u001b[0m                     \u001b[0mgot_s\u001b[0m\u001b[1;33m.\u001b[0m\u001b[0madd\u001b[0m\u001b[1;33m(\u001b[0m\u001b[0ms\u001b[0m\u001b[1;33m)\u001b[0m\u001b[1;33m\u001b[0m\u001b[1;33m\u001b[0m\u001b[0m\n\u001b[0;32m   1888\u001b[0m                 \u001b[1;32mif\u001b[0m \u001b[1;32mnot\u001b[0m \u001b[0mhit\u001b[0m\u001b[1;33m:\u001b[0m\u001b[1;33m\u001b[0m\u001b[1;33m\u001b[0m\u001b[0m\n\u001b[1;32m-> 1889\u001b[1;33m                     \u001b[1;32mraise\u001b[0m \u001b[0mNotImplementedError\u001b[0m\u001b[1;33m(\u001b[0m\u001b[1;34m'could not solve %s'\u001b[0m \u001b[1;33m%\u001b[0m \u001b[0meq2\u001b[0m\u001b[1;33m)\u001b[0m\u001b[1;33m\u001b[0m\u001b[1;33m\u001b[0m\u001b[0m\n\u001b[0m\u001b[0;32m   1890\u001b[0m             \u001b[1;32melse\u001b[0m\u001b[1;33m:\u001b[0m\u001b[1;33m\u001b[0m\u001b[1;33m\u001b[0m\u001b[0m\n\u001b[0;32m   1891\u001b[0m                 \u001b[0mresult\u001b[0m \u001b[1;33m=\u001b[0m \u001b[0mnewresult\u001b[0m\u001b[1;33m\u001b[0m\u001b[1;33m\u001b[0m\u001b[0m\n",
      "\u001b[1;31mNotImplementedError\u001b[0m: could not solve \\hat{\\imath}*alpha_2*(-s_2 + x_2)**alpha_2*(-s_3 + x_3)**alpha_3*(-s_4 + x_4)**alpha_4*((\\hat{\\imath}*alpha_1*(-s_2 + x_2)**alpha_2*(-s_3 + x_3)**alpha_3*(-s_4 + x_4)**alpha_4/(lambda*p_1))**(-1/(alpha_1 - 1)))**alpha_1 - lambda*p_2*(-s_2 + x_2)"
     ]
    }
   ],
   "source": [
    "candidates = sp.solve(KKT1, [x1, x2, x3, x4, lc, la, s, u, lam], dict=True) # solve the KKT equations\n",
    "candidates"
   ]
  },
  {
   "cell_type": "code",
   "execution_count": null,
   "metadata": {},
   "outputs": [],
   "source": [
    "[f.subs(p) for p in candidates]"
   ]
  }
 ]
}